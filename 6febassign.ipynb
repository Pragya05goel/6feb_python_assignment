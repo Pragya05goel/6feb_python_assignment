{
 "cells": [
  {
   "cell_type": "markdown",
   "id": "a6fdf5a7-dd86-4109-bd6e-379200d3aec0",
   "metadata": {},
   "source": [
    "## ASSIGNMENT"
   ]
  },
  {
   "cell_type": "markdown",
   "id": "f9401b28-f771-46be-8470-2cda88f572d0",
   "metadata": {},
   "source": [
    "Q1. Create a function which will take a list as an argument and return the product of all the numbers\n",
    "after creating a flat list.\n",
    "\n",
    "Use the below-given list as an argument for your function.\n",
    "\n",
    "list1 = [1,2,3,4, [44,55,66, True], False, (34,56,78,89,34), {1,2,3,3,2,1}, {1:34, \"key2\": [55, 67, 78, 89], 4: (45,\n",
    "22, 61, 34)}, [56, 'data science'], 'Machine Learning']\n",
    "\n",
    "Note: you must extract numeric keys and values of the dictionary also."
   ]
  },
  {
   "cell_type": "code",
   "execution_count": 1,
   "id": "78180f52-c0f2-4184-a6f5-6b29617c753c",
   "metadata": {},
   "outputs": [],
   "source": [
    "list1 = [1,2,3,4, [44,55,66, True], False, (34,56,78,89,34), {1,2,3,3,2,1}, {1:34, \"key2\": [55, 67, 78, 89], 4: (45, 22, 61, 34)}, [56, 'data science'], 'Machine Learning']"
   ]
  },
  {
   "cell_type": "code",
   "execution_count": 2,
   "id": "3a918647-0845-4d16-8659-d91335717258",
   "metadata": {},
   "outputs": [],
   "source": [
    "def product_after_flat(list_given):\n",
    "    g=[]\n",
    "    for i in list_given:\n",
    "        if type(i)==int or type(i)==str or type(i)==bool or type(i)==float:\n",
    "            g.append(i)\n",
    "        \n",
    "        elif type(i)==list or type(i)==tuple or type(i)==set:\n",
    "            for j in i:\n",
    "                if type(j)==list or type(j)==tuple:\n",
    "                    for k in j:\n",
    "                        g.append(k)\n",
    "                    \n",
    "                elif type(j)!=list:\n",
    "                    g.append(j)\n",
    "     \n",
    "        elif type(i)==dict:\n",
    "            for j in i.values():\n",
    "                if type(j)==int or type(j)==bool or type(j)==str or type(j)==float:\n",
    "                    g.append(j)\n",
    "                elif type(j)==list or type(j)==tuple or type(j)==set:\n",
    "                    for k in j:\n",
    "                        g.append(k)\n",
    "                elif type(j)==dict:\n",
    "                    for k in j.values():\n",
    "                        if type(k)==int or type(k)==bool or type(k)==str or type(k)==float:\n",
    "                            g.append(k)\n",
    "                        elif type(k)==list or type(k)==tuple or type(k)==set:\n",
    "                            for p in k:\n",
    "                                g.append(p)\n",
    "                            \n",
    "                    for k in j.keys():\n",
    "                        g.append(k)\n",
    "                \n",
    "            for j in i.keys():  \n",
    "                g.append(j)\n",
    "     \n",
    "    c=1\n",
    "    for k in g:\n",
    "        if type(k)==int or type(k)==float:\n",
    "            c=c*k\n",
    "    return  c"
   ]
  },
  {
   "cell_type": "code",
   "execution_count": 3,
   "id": "ae268047-21b1-4eca-aa0f-7a68439e8e3a",
   "metadata": {},
   "outputs": [
    {
     "data": {
      "text/plain": [
       "4134711838987085478833841242112000"
      ]
     },
     "execution_count": 3,
     "metadata": {},
     "output_type": "execute_result"
    }
   ],
   "source": [
    "product_after_flat(list1)"
   ]
  },
  {
   "cell_type": "markdown",
   "id": "e72f9d63-3793-446d-b5b9-82a77393b413",
   "metadata": {},
   "source": [
    "Q2. Write a python program for encrypting a message sent to you by your friend. The logic of encryption\n",
    "should be such that, for a the output should be z. For b, the output should be y. For c, the output should\n",
    "be x respectively. Also, the whitespace should be replaced with a dollar sign. Keep the punctuation\n",
    "marks unchanged.\n",
    "\n",
    "Input Sentence: I want to become a Data Scientist.\n",
    "\n",
    "Encrypt the above input sentence using the program you just created.\n",
    "\n",
    "Note: Convert the given input sentence into lowercase before encrypting. The final output should be\n",
    "lowercase."
   ]
  },
  {
   "cell_type": "code",
   "execution_count": 4,
   "id": "7bb28c82-32b1-43e8-ac27-29f51610e91d",
   "metadata": {},
   "outputs": [],
   "source": [
    "import string\n",
    "\n",
    "def encryt_mess(mess):\n",
    "    str_alpha=\"abcdefghijklmnopqrstuvwxyz\"\n",
    "    k=string.punctuation\n",
    "    mess_lower=mess.lower()\n",
    "    lst=[]\n",
    "    \n",
    "    for i in mess_lower:\n",
    "        if type(i)==str and i!=' ' and i not in k:\n",
    "            lst.append(str_alpha[-(ord(i)+25-122)-1])\n",
    "         \n",
    "        elif i==' ': \n",
    "            lst.append(\"$\")\n",
    "            \n",
    "        elif i in k:\n",
    "            lst.append(i)\n",
    "    \n",
    "    str_final=\"\"\n",
    "    for i in lst:\n",
    "        str_final=str_final+i\n",
    "       \n",
    "        \n",
    "    return str_final "
   ]
  },
  {
   "cell_type": "code",
   "execution_count": 5,
   "id": "775bd1e6-4346-437c-a2e6-1aed9411b4a0",
   "metadata": {},
   "outputs": [
    {
     "data": {
      "text/plain": [
       "'r$dzmg$gl$yvxlnv$z$wzgz$hxrvmgrhg'"
      ]
     },
     "execution_count": 5,
     "metadata": {},
     "output_type": "execute_result"
    }
   ],
   "source": [
    "encryt_mess(\"I want to become a Data Scientist\")"
   ]
  },
  {
   "cell_type": "markdown",
   "id": "4fbb9d63-fdc8-4e35-a726-bbdd0b496381",
   "metadata": {},
   "source": [
    "---"
   ]
  }
 ],
 "metadata": {
  "kernelspec": {
   "display_name": "Python 3 (ipykernel)",
   "language": "python",
   "name": "python3"
  },
  "language_info": {
   "codemirror_mode": {
    "name": "ipython",
    "version": 3
   },
   "file_extension": ".py",
   "mimetype": "text/x-python",
   "name": "python",
   "nbconvert_exporter": "python",
   "pygments_lexer": "ipython3",
   "version": "3.10.8"
  }
 },
 "nbformat": 4,
 "nbformat_minor": 5
}
